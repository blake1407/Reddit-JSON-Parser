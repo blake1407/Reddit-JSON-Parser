{
 "cells": [
  {
   "cell_type": "code",
   "execution_count": 21,
   "metadata": {},
   "outputs": [
    {
     "name": "stdout",
     "output_type": "stream",
     "text": [
      "Clicked Fetch More button\n",
      "Clicked Fetch More button\n",
      "Clicked Fetch More button\n",
      "Clicked Fetch More button\n",
      "Clicked Fetch More button\n",
      "Clicked Fetch More button\n",
      "Clicked Fetch More button\n",
      "Clicked Fetch More button\n",
      "Clicked Fetch More button\n",
      "Clicked Fetch More button\n",
      "Clicked Fetch More button\n",
      "Clicked Fetch More button\n",
      "Clicked Fetch More button\n",
      "Clicked Fetch More button\n",
      "Clicked Fetch More button\n",
      "Clicked Fetch More button\n",
      "Clicked Fetch More button\n",
      "Clicked Fetch More button\n",
      "Clicked Fetch More button\n",
      "Clicked Fetch More button\n",
      "Clicked Fetch More button\n",
      "Clicked Fetch More button\n",
      "Clicked Fetch More button\n"
     ]
    },
    {
     "ename": "NoSuchWindowException",
     "evalue": "Message: no such window: target window already closed\nfrom unknown error: web view not found\n  (Session info: chrome=126.0.6478.127)\nStacktrace:\n\tGetHandleVerifier [0x00007FF703D6EEA2+31554]\n\t(No symbol) [0x00007FF703CE7ED9]\n\t(No symbol) [0x00007FF703BA872A]\n\t(No symbol) [0x00007FF703B7D995]\n\t(No symbol) [0x00007FF703C244D7]\n\t(No symbol) [0x00007FF703C3C051]\n\t(No symbol) [0x00007FF703C1CDD3]\n\t(No symbol) [0x00007FF703BEA33B]\n\t(No symbol) [0x00007FF703BEAED1]\n\tGetHandleVerifier [0x00007FF704078B1D+3217341]\n\tGetHandleVerifier [0x00007FF7040C5AE3+3532675]\n\tGetHandleVerifier [0x00007FF7040BB0E0+3489152]\n\tGetHandleVerifier [0x00007FF703E1E776+750614]\n\t(No symbol) [0x00007FF703CF375F]\n\t(No symbol) [0x00007FF703CEEB14]\n\t(No symbol) [0x00007FF703CEECA2]\n\t(No symbol) [0x00007FF703CDE16F]\n\tBaseThreadInitThunk [0x00007FF96C73257D+29]\n\tRtlUserThreadStart [0x00007FF96E14AF28+40]\n",
     "output_type": "error",
     "traceback": [
      "\u001b[1;31m---------------------------------------------------------------------------\u001b[0m",
      "\u001b[1;31mNoSuchWindowException\u001b[0m                     Traceback (most recent call last)",
      "Cell \u001b[1;32mIn[21], line 31\u001b[0m\n\u001b[0;32m     29\u001b[0m \u001b[38;5;66;03m# Loop to click Fetch More and scroll down until it's no longer present\u001b[39;00m\n\u001b[0;32m     30\u001b[0m \u001b[38;5;28;01mwhile\u001b[39;00m \u001b[38;5;28;01mTrue\u001b[39;00m:\n\u001b[1;32m---> 31\u001b[0m     fetch_more_button \u001b[38;5;241m=\u001b[39m \u001b[43mwait\u001b[49m\u001b[38;5;241;43m.\u001b[39;49m\u001b[43muntil\u001b[49m\u001b[43m(\u001b[49m\u001b[43mEC\u001b[49m\u001b[38;5;241;43m.\u001b[39;49m\u001b[43melement_to_be_clickable\u001b[49m\u001b[43m(\u001b[49m\u001b[43m(\u001b[49m\u001b[43mBy\u001b[49m\u001b[38;5;241;43m.\u001b[39;49m\u001b[43mXPATH\u001b[49m\u001b[43m,\u001b[49m\u001b[43m \u001b[49m\u001b[38;5;124;43m'\u001b[39;49m\u001b[38;5;124;43m//input[@value=\u001b[39;49m\u001b[38;5;124;43m\"\u001b[39;49m\u001b[38;5;124;43mFetch More\u001b[39;49m\u001b[38;5;124;43m\"\u001b[39;49m\u001b[38;5;124;43m]\u001b[39;49m\u001b[38;5;124;43m'\u001b[39;49m\u001b[43m)\u001b[49m\u001b[43m)\u001b[49m\u001b[43m)\u001b[49m\n\u001b[0;32m     32\u001b[0m     \u001b[38;5;28;01mif\u001b[39;00m is_fetch_more_button_present(driver):\n\u001b[0;32m     33\u001b[0m         \u001b[38;5;28;01mtry\u001b[39;00m:\n",
      "File \u001b[1;32m~\\AppData\\Local\\Packages\\PythonSoftwareFoundation.Python.3.11_qbz5n2kfra8p0\\LocalCache\\local-packages\\Python311\\site-packages\\selenium\\webdriver\\support\\wait.py:96\u001b[0m, in \u001b[0;36mWebDriverWait.until\u001b[1;34m(self, method, message)\u001b[0m\n\u001b[0;32m     94\u001b[0m \u001b[38;5;28;01mwhile\u001b[39;00m \u001b[38;5;28;01mTrue\u001b[39;00m:\n\u001b[0;32m     95\u001b[0m     \u001b[38;5;28;01mtry\u001b[39;00m:\n\u001b[1;32m---> 96\u001b[0m         value \u001b[38;5;241m=\u001b[39m \u001b[43mmethod\u001b[49m\u001b[43m(\u001b[49m\u001b[38;5;28;43mself\u001b[39;49m\u001b[38;5;241;43m.\u001b[39;49m\u001b[43m_driver\u001b[49m\u001b[43m)\u001b[49m\n\u001b[0;32m     97\u001b[0m         \u001b[38;5;28;01mif\u001b[39;00m value:\n\u001b[0;32m     98\u001b[0m             \u001b[38;5;28;01mreturn\u001b[39;00m value\n",
      "File \u001b[1;32m~\\AppData\\Local\\Packages\\PythonSoftwareFoundation.Python.3.11_qbz5n2kfra8p0\\LocalCache\\local-packages\\Python311\\site-packages\\selenium\\webdriver\\support\\expected_conditions.py:363\u001b[0m, in \u001b[0;36melement_to_be_clickable.<locals>._predicate\u001b[1;34m(driver)\u001b[0m\n\u001b[0;32m    361\u001b[0m target \u001b[38;5;241m=\u001b[39m mark\n\u001b[0;32m    362\u001b[0m \u001b[38;5;28;01mif\u001b[39;00m \u001b[38;5;129;01mnot\u001b[39;00m \u001b[38;5;28misinstance\u001b[39m(target, WebElement):  \u001b[38;5;66;03m# if given locator instead of WebElement\u001b[39;00m\n\u001b[1;32m--> 363\u001b[0m     target \u001b[38;5;241m=\u001b[39m \u001b[43mdriver\u001b[49m\u001b[38;5;241;43m.\u001b[39;49m\u001b[43mfind_element\u001b[49m\u001b[43m(\u001b[49m\u001b[38;5;241;43m*\u001b[39;49m\u001b[43mtarget\u001b[49m\u001b[43m)\u001b[49m  \u001b[38;5;66;03m# grab element at locator\u001b[39;00m\n\u001b[0;32m    364\u001b[0m element \u001b[38;5;241m=\u001b[39m visibility_of(target)(driver)\n\u001b[0;32m    365\u001b[0m \u001b[38;5;28;01mif\u001b[39;00m element \u001b[38;5;129;01mand\u001b[39;00m element\u001b[38;5;241m.\u001b[39mis_enabled():\n",
      "File \u001b[1;32m~\\AppData\\Local\\Packages\\PythonSoftwareFoundation.Python.3.11_qbz5n2kfra8p0\\LocalCache\\local-packages\\Python311\\site-packages\\selenium\\webdriver\\remote\\webdriver.py:748\u001b[0m, in \u001b[0;36mWebDriver.find_element\u001b[1;34m(self, by, value)\u001b[0m\n\u001b[0;32m    745\u001b[0m     by \u001b[38;5;241m=\u001b[39m By\u001b[38;5;241m.\u001b[39mCSS_SELECTOR\n\u001b[0;32m    746\u001b[0m     value \u001b[38;5;241m=\u001b[39m \u001b[38;5;124mf\u001b[39m\u001b[38;5;124m'\u001b[39m\u001b[38;5;124m[name=\u001b[39m\u001b[38;5;124m\"\u001b[39m\u001b[38;5;132;01m{\u001b[39;00mvalue\u001b[38;5;132;01m}\u001b[39;00m\u001b[38;5;124m\"\u001b[39m\u001b[38;5;124m]\u001b[39m\u001b[38;5;124m'\u001b[39m\n\u001b[1;32m--> 748\u001b[0m \u001b[38;5;28;01mreturn\u001b[39;00m \u001b[38;5;28;43mself\u001b[39;49m\u001b[38;5;241;43m.\u001b[39;49m\u001b[43mexecute\u001b[49m\u001b[43m(\u001b[49m\u001b[43mCommand\u001b[49m\u001b[38;5;241;43m.\u001b[39;49m\u001b[43mFIND_ELEMENT\u001b[49m\u001b[43m,\u001b[49m\u001b[43m \u001b[49m\u001b[43m{\u001b[49m\u001b[38;5;124;43m\"\u001b[39;49m\u001b[38;5;124;43musing\u001b[39;49m\u001b[38;5;124;43m\"\u001b[39;49m\u001b[43m:\u001b[49m\u001b[43m \u001b[49m\u001b[43mby\u001b[49m\u001b[43m,\u001b[49m\u001b[43m \u001b[49m\u001b[38;5;124;43m\"\u001b[39;49m\u001b[38;5;124;43mvalue\u001b[39;49m\u001b[38;5;124;43m\"\u001b[39;49m\u001b[43m:\u001b[49m\u001b[43m \u001b[49m\u001b[43mvalue\u001b[49m\u001b[43m}\u001b[49m\u001b[43m)\u001b[49m[\u001b[38;5;124m\"\u001b[39m\u001b[38;5;124mvalue\u001b[39m\u001b[38;5;124m\"\u001b[39m]\n",
      "File \u001b[1;32m~\\AppData\\Local\\Packages\\PythonSoftwareFoundation.Python.3.11_qbz5n2kfra8p0\\LocalCache\\local-packages\\Python311\\site-packages\\selenium\\webdriver\\remote\\webdriver.py:354\u001b[0m, in \u001b[0;36mWebDriver.execute\u001b[1;34m(self, driver_command, params)\u001b[0m\n\u001b[0;32m    352\u001b[0m response \u001b[38;5;241m=\u001b[39m \u001b[38;5;28mself\u001b[39m\u001b[38;5;241m.\u001b[39mcommand_executor\u001b[38;5;241m.\u001b[39mexecute(driver_command, params)\n\u001b[0;32m    353\u001b[0m \u001b[38;5;28;01mif\u001b[39;00m response:\n\u001b[1;32m--> 354\u001b[0m     \u001b[38;5;28;43mself\u001b[39;49m\u001b[38;5;241;43m.\u001b[39;49m\u001b[43merror_handler\u001b[49m\u001b[38;5;241;43m.\u001b[39;49m\u001b[43mcheck_response\u001b[49m\u001b[43m(\u001b[49m\u001b[43mresponse\u001b[49m\u001b[43m)\u001b[49m\n\u001b[0;32m    355\u001b[0m     response[\u001b[38;5;124m\"\u001b[39m\u001b[38;5;124mvalue\u001b[39m\u001b[38;5;124m\"\u001b[39m] \u001b[38;5;241m=\u001b[39m \u001b[38;5;28mself\u001b[39m\u001b[38;5;241m.\u001b[39m_unwrap_value(response\u001b[38;5;241m.\u001b[39mget(\u001b[38;5;124m\"\u001b[39m\u001b[38;5;124mvalue\u001b[39m\u001b[38;5;124m\"\u001b[39m, \u001b[38;5;28;01mNone\u001b[39;00m))\n\u001b[0;32m    356\u001b[0m     \u001b[38;5;28;01mreturn\u001b[39;00m response\n",
      "File \u001b[1;32m~\\AppData\\Local\\Packages\\PythonSoftwareFoundation.Python.3.11_qbz5n2kfra8p0\\LocalCache\\local-packages\\Python311\\site-packages\\selenium\\webdriver\\remote\\errorhandler.py:229\u001b[0m, in \u001b[0;36mErrorHandler.check_response\u001b[1;34m(self, response)\u001b[0m\n\u001b[0;32m    227\u001b[0m         alert_text \u001b[38;5;241m=\u001b[39m value[\u001b[38;5;124m\"\u001b[39m\u001b[38;5;124malert\u001b[39m\u001b[38;5;124m\"\u001b[39m]\u001b[38;5;241m.\u001b[39mget(\u001b[38;5;124m\"\u001b[39m\u001b[38;5;124mtext\u001b[39m\u001b[38;5;124m\"\u001b[39m)\n\u001b[0;32m    228\u001b[0m     \u001b[38;5;28;01mraise\u001b[39;00m exception_class(message, screen, stacktrace, alert_text)  \u001b[38;5;66;03m# type: ignore[call-arg]  # mypy is not smart enough here\u001b[39;00m\n\u001b[1;32m--> 229\u001b[0m \u001b[38;5;28;01mraise\u001b[39;00m exception_class(message, screen, stacktrace)\n",
      "\u001b[1;31mNoSuchWindowException\u001b[0m: Message: no such window: target window already closed\nfrom unknown error: web view not found\n  (Session info: chrome=126.0.6478.127)\nStacktrace:\n\tGetHandleVerifier [0x00007FF703D6EEA2+31554]\n\t(No symbol) [0x00007FF703CE7ED9]\n\t(No symbol) [0x00007FF703BA872A]\n\t(No symbol) [0x00007FF703B7D995]\n\t(No symbol) [0x00007FF703C244D7]\n\t(No symbol) [0x00007FF703C3C051]\n\t(No symbol) [0x00007FF703C1CDD3]\n\t(No symbol) [0x00007FF703BEA33B]\n\t(No symbol) [0x00007FF703BEAED1]\n\tGetHandleVerifier [0x00007FF704078B1D+3217341]\n\tGetHandleVerifier [0x00007FF7040C5AE3+3532675]\n\tGetHandleVerifier [0x00007FF7040BB0E0+3489152]\n\tGetHandleVerifier [0x00007FF703E1E776+750614]\n\t(No symbol) [0x00007FF703CF375F]\n\t(No symbol) [0x00007FF703CEEB14]\n\t(No symbol) [0x00007FF703CEECA2]\n\t(No symbol) [0x00007FF703CDE16F]\n\tBaseThreadInitThunk [0x00007FF96C73257D+29]\n\tRtlUserThreadStart [0x00007FF96E14AF28+40]\n"
     ]
    }
   ],
   "source": [
    "from selenium import webdriver\n",
    "from selenium.webdriver.common.by import By\n",
    "from selenium.webdriver.support.ui import WebDriverWait\n",
    "from selenium.webdriver.support import expected_conditions as EC\n",
    "from selenium.common.exceptions import TimeoutException, NoSuchElementException\n",
    "\n",
    "# Function to check if the Fetch More button is present\n",
    "def is_fetch_more_button_present(driver):\n",
    "    try:\n",
    "        fetch_more_button = driver.find_element(By.XPATH, '//input[@value=\"Fetch More\"]')\n",
    "        return fetch_more_button.is_displayed()\n",
    "    except NoSuchElementException:\n",
    "        return False\n",
    "\n",
    "# Initialize WebDriver\n",
    "driver = webdriver.Chrome()\n",
    "driver.get(\"https://search.pullpush.io/?kind=submission&score=>1000&since=1604203200&until=1611118800&q=(America%20AND%20election*)%20OR%20(America*)%20OR%20%20OR%20(election*)%20%20OR%20((U*S*)%20AND%20election*)&size=10000\")\n",
    "\n",
    "# Wait for the search button to be clickable and click it\n",
    "wait = WebDriverWait(driver, 20)\n",
    "try:\n",
    "    search_button = wait.until(EC.element_to_be_clickable((By.ID, 'searchButton')))\n",
    "    search_button.click()\n",
    "except TimeoutException:\n",
    "    print(\"Timeout waiting for search button to be clickable.\")\n",
    "    driver.quit()\n",
    "    exit()\n",
    "\n",
    "# Loop to click Fetch More and scroll down until it's no longer present\n",
    "while True:\n",
    "    fetch_more_button = wait.until(EC.element_to_be_clickable((By.XPATH, '//input[@value=\"Fetch More\"]')))\n",
    "    if is_fetch_more_button_present(driver):\n",
    "        try:\n",
    "            fetch_more_button = wait.until(EC.element_to_be_clickable((By.XPATH, '//input[@value=\"Fetch More\"]')))\n",
    "            fetch_more_button.click()\n",
    "            print(\"Clicked Fetch More button\")\n",
    "            # Optionally, you can scroll to the bottom of the page after clicking Fetch More\n",
    "            driver.execute_script(\"window.scrollTo(0, document.body.scrollHeight);\")\n",
    "        except TimeoutException:\n",
    "            print(\"Timeout waiting for Fetch More button to be clickable.\")\n",
    "            break\n",
    "    else:\n",
    "        print(\"Fetch More button not found. Exiting loop.\")\n",
    "        break\n",
    "\n",
    "# After loop, scroll to the bottom of the page one final time\n",
    "driver.execute_script(\"window.scrollTo(0, document.body.scrollHeight);\")\n",
    "\n",
    "# Close the WebDriver\n",
    "#driver.quit()\n"
   ]
  }
 ],
 "metadata": {
  "kernelspec": {
   "display_name": "Python 3",
   "language": "python",
   "name": "python3"
  },
  "language_info": {
   "codemirror_mode": {
    "name": "ipython",
    "version": 3
   },
   "file_extension": ".py",
   "mimetype": "text/x-python",
   "name": "python",
   "nbconvert_exporter": "python",
   "pygments_lexer": "ipython3",
   "version": "3.11.9"
  }
 },
 "nbformat": 4,
 "nbformat_minor": 2
}

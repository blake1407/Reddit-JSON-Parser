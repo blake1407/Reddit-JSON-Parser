{
 "cells": [
  {
   "cell_type": "code",
   "execution_count": 1,
   "metadata": {},
   "outputs": [],
   "source": [
    "after = ['It’s so weird that pro-Israel people in my mentions have resorted to commenting non-stop on the size of my nose, seemingly with zero awareness about how uhhhh it is to ridicule nose size in service of a Jewish ethnostate.', 'Being a Jewish leftist is having the absolute moral necessity of opposing genocide drilled into you since birth then being told to kindly shut the fuck up by the people who did the drilling when you actually apply it', 'it still surprises me whenever I see people act shocked that there are Middle Eastern Christians like honey you do realise that it was Jesus of Nazareth not Jesus of New Jersey', 'It’s weird how people expect you to believe that Israel has Palestinians corralled into ghettos purely because of faults of their own, unrelated to the fact that if everyone in the occupied territories was enfranchised Israel would not be a majority Jewish state', 'It boggles my mind that most of you have never had the experience of watching the world mass slaughter your people, deem them dispensable, unworthy of life.   As an Arab at the age of 34, it’s all I’ve ever known.', 'When people say equal rights for Palestinians, including the right to return, would threaten Israel’s existence as a “Jewish state” you can say “what?? are you an ethnonationalist?????????” That is the starting place', 'I keep thinking how crazy it would be if an Arab country kept 2.3 million Jewish people in a cage, half children, cut off their electricity & water then indiscriminately bombed them. Beyond comprehension the anti-Muslim bigotry that makes the world applaud this as justified', 'The idea that “From the river to the sea Palestine will be free” is about expelling Jews for being Jewish instead of the fact that Israel has millions of people permanently confined in a deranged and terroristic military occupation is just denialism please be serious', 'a lot of pro-israel messaging is as though you have… no jewish friends? have never met a jewish person before? but being jewish is normal. It’s regular stuff', 'People in the West don’t realize the extent to which the carnage in Gaza is shaping and changing Arab and Muslim attitudes toward the West in general. You listen too much to token Arabs at think tanks and to UAE/Saudi propagandists.  Here is an Arab director:  “Things are not…', 'To all the nasty people weaponizing Jewish identity to center themselves as the victim while a literal holocaust is being waged on the Palestinian people: fuck you, fuck Zionism, fuck your crocodile tears. Grow the fuck up.', 'My Jewish values don’t include slaughter, collective punishment, the intentional starving of people, ethnic cleansing, genocide. My Jewish values cry out, CEASEFIRE NOW!', 'I will never forgive the British and other European powers who didn’t want to deal with Jewish refugees after the holocaust and didn’t care about the Palestinian people living on the land and set up a situation that was always going to cause violence w/o any responsibility', 'As a Jewish person, I wish I could spend this week grieving and mourning. But the Israeli government is weaponizing our grief to enact a second Nakba, killing thousands and displacing millions. I can make time to grieve while also working to stop ethnic cleansing.', 'Jewish people are not only safe in America. They are privileged.   Stop playing the “victim card.”']\n",
    "\n",
    "before = ['Two things I periodically relearn and forget are that there are less Jewish people in the world than you’d think, and that bras are pretty expensive.', 'Whether its Democrats intervening to make sure Jewish people arent targeted on Twitter, or Elon Musk intervening to make sure murderous Russians arent targeted by Ukrainians who want to defend their own country, both sides need to mind their own business.', 'Israeli police are brutally cracking down on Eritrean refugees in Tel Aviv. The land they dispossessed Palestinians from and made them refugees.  Today we see the essence and the core of Israeli supremacy. A single ethnoreligius state for White Jewish people.', 'not to be middle eastern on the tl but i’m here freezing my ass off in my turtleneck and jacket and half of the people are vibing in their t shirts and shorts', 'I’m just a Jewish person who can’t figure out if Jesus Christ’s  middle  initial was F or H', 'I think a lot of queer white folks get very accustomed to being the most progressive person in THEIR social circles. Then they move into circles with BIPOC & Jewish people and start showing their asses and they do NOT take constructive feedback well.', 'the more i read european modernists the more i feel that, if i were a progressive jewish person, i would not really want people to read \"the old testament\"', 'Really disturbing how the status quo position on Jewish people in this country is one given by antisemitic philosemites who only consider Jewish people valid if they support the continued oppression and murder of Palestinians.', 'Explaining Jewish people to twitter \"so imagine Ben Gross\"', 'it’s so easy to spot an arab woman if she’s telling a story she feels some type of way about, she doesn’t need to have an accent or anything lmaooo i’ll just know that’s my people', 'This is a battle for the soul of White America. The GOP have become full fledged fascists now & the ONLY GROUP they win as a majority is non Jewish White people. None of them would be in power without this group. So are you gonna be fascists or save democracy. Your “choice”', 'Kanye West Vs rat in cheese maze: Kanye west starts rapping about how the rat is jewish. The rat goes through maze and eats the cheese. The rat is undefeated against this endless lineup of foolish people', 'really cool that hackers are selling doxing info for like 1,000,000 Ashkenazi Jewish people thats just damned great. I hate it here.', 'The Chinese educate their kids in Chinese, the Arabs educate their kids in Arabic, the British educate their kids in English. It’s only in Africa education is defined by how much we can copy other people.', 'A lot of non-Jewish people need to get it through their heads that the amount of time Jewish people spend openly talking to non-Jewish people about our Judaism is no indication of the depth of our belief.', 'There are only 16 million Jewish people in the entire world. Y’all gotta start working with us & educate yourselves about antisemitism.'] "
   ]
  },
  {
   "cell_type": "code",
   "execution_count": 2,
   "metadata": {},
   "outputs": [
    {
     "ename": "ModuleNotFoundError",
     "evalue": "No module named 'transformers.utils'",
     "output_type": "error",
     "traceback": [
      "\u001b[1;31m---------------------------------------------------------------------------\u001b[0m",
      "\u001b[1;31mModuleNotFoundError\u001b[0m                       Traceback (most recent call last)",
      "Cell \u001b[1;32mIn[2], line 1\u001b[0m\n\u001b[1;32m----> 1\u001b[0m \u001b[38;5;28;01mfrom\u001b[39;00m \u001b[38;5;21;01mtransformers\u001b[39;00m \u001b[38;5;28;01mimport\u001b[39;00m AutoTokenizer, AutoModelForSequenceClassification\n\u001b[0;32m      2\u001b[0m \u001b[38;5;28;01mimport\u001b[39;00m \u001b[38;5;21;01mtorch\u001b[39;00m\n\u001b[0;32m      4\u001b[0m \u001b[38;5;66;03m# Load tokenizer and model\u001b[39;00m\n",
      "File \u001b[1;32m~\\AppData\\Local\\Packages\\PythonSoftwareFoundation.Python.3.11_qbz5n2kfra8p0\\LocalCache\\local-packages\\Python311\\site-packages\\transformers\\__init__.py:26\u001b[0m\n\u001b[0;32m     23\u001b[0m \u001b[38;5;28;01mfrom\u001b[39;00m \u001b[38;5;21;01mtyping\u001b[39;00m \u001b[38;5;28;01mimport\u001b[39;00m TYPE_CHECKING\n\u001b[0;32m     25\u001b[0m \u001b[38;5;66;03m# Check the dependencies satisfy the minimal versions required.\u001b[39;00m\n\u001b[1;32m---> 26\u001b[0m \u001b[38;5;28;01mfrom\u001b[39;00m \u001b[38;5;21;01m.\u001b[39;00m \u001b[38;5;28;01mimport\u001b[39;00m dependency_versions_check\n\u001b[0;32m     27\u001b[0m \u001b[38;5;28;01mfrom\u001b[39;00m \u001b[38;5;21;01m.\u001b[39;00m\u001b[38;5;21;01mutils\u001b[39;00m \u001b[38;5;28;01mimport\u001b[39;00m (\n\u001b[0;32m     28\u001b[0m     OptionalDependencyNotAvailable,\n\u001b[0;32m     29\u001b[0m     _LazyModule,\n\u001b[1;32m   (...)\u001b[0m\n\u001b[0;32m     48\u001b[0m     logging,\n\u001b[0;32m     49\u001b[0m )\n\u001b[0;32m     52\u001b[0m logger \u001b[38;5;241m=\u001b[39m logging\u001b[38;5;241m.\u001b[39mget_logger(\u001b[38;5;18m__name__\u001b[39m)  \u001b[38;5;66;03m# pylint: disable=invalid-name\u001b[39;00m\n",
      "File \u001b[1;32m~\\AppData\\Local\\Packages\\PythonSoftwareFoundation.Python.3.11_qbz5n2kfra8p0\\LocalCache\\local-packages\\Python311\\site-packages\\transformers\\dependency_versions_check.py:16\u001b[0m\n\u001b[0;32m      1\u001b[0m \u001b[38;5;66;03m# Copyright 2020 The HuggingFace Team. All rights reserved.\u001b[39;00m\n\u001b[0;32m      2\u001b[0m \u001b[38;5;66;03m#\u001b[39;00m\n\u001b[0;32m      3\u001b[0m \u001b[38;5;66;03m# Licensed under the Apache License, Version 2.0 (the \"License\");\u001b[39;00m\n\u001b[1;32m   (...)\u001b[0m\n\u001b[0;32m     12\u001b[0m \u001b[38;5;66;03m# See the License for the specific language governing permissions and\u001b[39;00m\n\u001b[0;32m     13\u001b[0m \u001b[38;5;66;03m# limitations under the License.\u001b[39;00m\n\u001b[0;32m     15\u001b[0m \u001b[38;5;28;01mfrom\u001b[39;00m \u001b[38;5;21;01m.\u001b[39;00m\u001b[38;5;21;01mdependency_versions_table\u001b[39;00m \u001b[38;5;28;01mimport\u001b[39;00m deps\n\u001b[1;32m---> 16\u001b[0m \u001b[38;5;28;01mfrom\u001b[39;00m \u001b[38;5;21;01m.\u001b[39;00m\u001b[38;5;21;01mutils\u001b[39;00m\u001b[38;5;21;01m.\u001b[39;00m\u001b[38;5;21;01mversions\u001b[39;00m \u001b[38;5;28;01mimport\u001b[39;00m require_version, require_version_core\n\u001b[0;32m     19\u001b[0m \u001b[38;5;66;03m# define which module versions we always want to check at run time\u001b[39;00m\n\u001b[0;32m     20\u001b[0m \u001b[38;5;66;03m# (usually the ones defined in `install_requires` in setup.py)\u001b[39;00m\n\u001b[0;32m     21\u001b[0m \u001b[38;5;66;03m#\u001b[39;00m\n\u001b[0;32m     22\u001b[0m \u001b[38;5;66;03m# order specific notes:\u001b[39;00m\n\u001b[0;32m     23\u001b[0m \u001b[38;5;66;03m# - tqdm must be checked before tokenizers\u001b[39;00m\n\u001b[0;32m     25\u001b[0m pkgs_to_check_at_runtime \u001b[38;5;241m=\u001b[39m [\n\u001b[0;32m     26\u001b[0m     \u001b[38;5;124m\"\u001b[39m\u001b[38;5;124mpython\u001b[39m\u001b[38;5;124m\"\u001b[39m,\n\u001b[0;32m     27\u001b[0m     \u001b[38;5;124m\"\u001b[39m\u001b[38;5;124mtqdm\u001b[39m\u001b[38;5;124m\"\u001b[39m,\n\u001b[1;32m   (...)\u001b[0m\n\u001b[0;32m     37\u001b[0m     \u001b[38;5;124m\"\u001b[39m\u001b[38;5;124mpyyaml\u001b[39m\u001b[38;5;124m\"\u001b[39m,\n\u001b[0;32m     38\u001b[0m ]\n",
      "\u001b[1;31mModuleNotFoundError\u001b[0m: No module named 'transformers.utils'"
     ]
    }
   ],
   "source": [
    "from transformers import AutoTokenizer, AutoModelForSequenceClassification\n",
    "import torch\n",
    "\n",
    "# Load tokenizer and model\n",
    "tokenizer = AutoTokenizer.from_pretrained(\"nlptown/bert-base-multilingual-uncased-sentiment\")\n",
    "model = AutoModelForSequenceClassification.from_pretrained(\"nlptown/bert-base-multilingual-uncased-sentiment\")\n",
    "\n",
    "# Define a function to perform sentiment analysis\n",
    "def analyze_sentiment(text):\n",
    "    # Tokenize input text\n",
    "    inputs = tokenizer(text, return_tensors=\"pt\", max_length=512, truncation=True)\n",
    "\n",
    "    # Perform inference\n",
    "    outputs = model(**inputs)\n",
    "    logits = outputs.logits\n",
    "\n",
    "    # Apply softmax to get probabilities\n",
    "    probs = torch.softmax(logits, dim=1).detach().numpy()[0]\n",
    "\n",
    "    # Determine sentiment label\n",
    "    label_mapping = {\n",
    "        0: \"Very negative\",\n",
    "        1: \"Negative\",\n",
    "        2: \"Neutral\",\n",
    "        3: \"Positive\",\n",
    "        4: \"Very positive\"\n",
    "    }\n",
    "    sentiment_label = label_mapping[int(probs.argmax())]\n",
    "\n",
    "    return sentiment_label, probs\n",
    "\n",
    "negative_sentences = []\n",
    "positive_sentences = []\n",
    "\n",
    "for post in before:\n",
    "    # Perform sentiment analysis\n",
    "    sentiment, probabilities = analyze_sentiment(post)\n",
    "    print('Before')\n",
    "    print(f'{sentiment} - {post}')\n",
    "for post in after:\n",
    "    # Perform sentiment analysis\n",
    "    sentiment, probabilities = analyze_sentiment(post)\n",
    "    print('After')\n",
    "    print(f'{sentiment} - {post}')\n"
   ]
  }
 ],
 "metadata": {
  "kernelspec": {
   "display_name": "Python 3",
   "language": "python",
   "name": "python3"
  },
  "language_info": {
   "codemirror_mode": {
    "name": "ipython",
    "version": 3
   },
   "file_extension": ".py",
   "mimetype": "text/x-python",
   "name": "python",
   "nbconvert_exporter": "python",
   "pygments_lexer": "ipython3",
   "version": "3.11.9"
  }
 },
 "nbformat": 4,
 "nbformat_minor": 2
}
